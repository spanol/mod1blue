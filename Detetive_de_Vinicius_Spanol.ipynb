{
  "nbformat": 4,
  "nbformat_minor": 0,
  "metadata": {
    "colab": {
      "name": "Projeto-1 de Vinicius Spanol.ipynb",
      "provenance": [],
      "collapsed_sections": [],
      "authorship_tag": "ABX9TyNeM8KxkDs+ybhm3QPH5xki",
      "include_colab_link": true
    },
    "kernelspec": {
      "name": "python3",
      "display_name": "Python 3"
    },
    "language_info": {
      "name": "python"
    }
  },
  "cells": [
    {
      "cell_type": "markdown",
      "metadata": {
        "id": "view-in-github",
        "colab_type": "text"
      },
      "source": [
        "<a href=\"https://colab.research.google.com/github/spanol/mod1blue/blob/main/Detetive_de_Vinicius_Spanol.ipynb\" target=\"_parent\"><img src=\"https://colab.research.google.com/assets/colab-badge.svg\" alt=\"Open In Colab\"/></a>"
      ]
    },
    {
      "cell_type": "code",
      "metadata": {
        "colab": {
          "base_uri": "https://localhost:8080/"
        },
        "id": "WqOnj3WM_HEl",
        "outputId": "a5ff6178-3300-458d-b4b4-76076ad84fcb"
      },
      "source": [
        "#\"Você telefonou para a vítima?\"\n",
        "#• \" Você esteve no local do crime?\"\n",
        "#• \" Você mora perto da vítima?\"\n",
        "#• \" Você devia para a vítima?\"\n",
        "#Você já trabalhou com a vítima?\n",
        "#O programa deve, no final, emitir uma classificação sobre a participação da\n",
        "#pessoa no crime.\n",
        "#Se a pessoa responder positivamente a:\n",
        "#• 2 questões ela deve ser classificada como \"Suspeita\",\n",
        "##• Entre 3 e 4 como \"Cúmplice\"\n",
        "#• 5 como \"Assassino\".\n",
        "#• Caso contrário, ele será classificado como \"Inocente\".\n",
        "\n",
        "culpa = 0\n",
        "\n",
        "q1 = input(\"Você telefonou para a vítima?(S/N):\")\n",
        "while q1.lower() not in [\"s\", \"n\"]:\n",
        "    q1 = input(\"Resposta inválida, tente novamente!\")\n",
        "if q1 == \"S\":\n",
        "    culpa = culpa + 1\n",
        "\n",
        "q2 = input(\"Você esteve no local do crime?(S/N):\")\n",
        "while q2.lower() not in [\"s\", \"n\"]:\n",
        "    q2 = input(\"Resposta inválida, tente novamente!\")\n",
        "if q2 == \"S\":\n",
        "    culpa = culpa + 1\n",
        "\n",
        "q3 = input(\"Você mora perto da vítima?(S/N):\")\n",
        "while q3.lower() not in [\"s\", \"n\"]:\n",
        "    q3 = input(\"Resposta inválida, tente novamente!\")\n",
        "if q3 == \"S\":\n",
        "    culpa = culpa + 1\n",
        "\n",
        "q4 = input(\"Você devia para a vítima?(S/N):\")\n",
        "while q4.lower() not in [\"s\", \"n\"]:\n",
        "    q4 = input(\"Resposta inválida, tente novamente!\")\n",
        "if q4 == \"S\":\n",
        "    culpa = culpa + 1\n",
        "\n",
        "q5 = input(\"Você já trabalhou com a vítima?(S/N):\")\n",
        "while q5.lower() not in [\"s\", \"n\"]:\n",
        "    q5 = input(\"Resposta inválida, tente novamente!\")\n",
        "if q5 == \"S\":\n",
        "    culpa = culpa + 1\n",
        "\n",
        "if culpa == 5:\n",
        "  print(\"Você é o assassino!\")\n",
        "if culpa in [4, 3]:\n",
        "    print(\"Você é um cumplice!\")\n",
        "if culpa == 2:\n",
        "  print(\"Você é um suspeito!\")\n",
        "if culpa in [0, 1]:\n",
        "  print(\"Você é inocente!\")\n",
        "print(f'Sua culpa no crime foi de {culpa}/5')"
      ],
      "execution_count": 37,
      "outputs": [
        {
          "output_type": "stream",
          "text": [
            "Você telefonou para a vítima?(S/N):S\n",
            "Você esteve no local do crime?(S/N):S\n",
            "Você mora perto da vítima?(S/N):N\n",
            "Você devia para a vítima?(S/N):S\n",
            "Você já trabalhou com a vítima?(S/N):D\n",
            "Resposta inválida, tente novamente!S\n",
            "Você é um cumplice!\n",
            "Sua culpa no crime foi de 4/5\n"
          ],
          "name": "stdout"
        }
      ]
    },
    {
      "cell_type": "code",
      "metadata": {
        "id": "RGLoHBbzv6uq"
      },
      "source": [
        ""
      ],
      "execution_count": 27,
      "outputs": []
    }
  ]
}